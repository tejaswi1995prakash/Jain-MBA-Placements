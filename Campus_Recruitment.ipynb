{
  "nbformat": 4,
  "nbformat_minor": 0,
  "metadata": {
    "colab": {
      "name": "Campus Recruitment",
      "provenance": [],
      "authorship_tag": "ABX9TyMnsuasGlenDMtZTdDenRWo",
      "include_colab_link": true
    },
    "kernelspec": {
      "name": "python3",
      "display_name": "Python 3"
    }
  },
  "cells": [
    {
      "cell_type": "markdown",
      "metadata": {
        "id": "view-in-github",
        "colab_type": "text"
      },
      "source": [
        "<a href=\"https://colab.research.google.com/github/tejaswi1995prakash/Jain-MBA-Placements/blob/master/Campus_Recruitment.ipynb\" target=\"_parent\"><img src=\"https://colab.research.google.com/assets/colab-badge.svg\" alt=\"Open In Colab\"/></a>"
      ]
    },
    {
      "cell_type": "markdown",
      "metadata": {
        "id": "t24LKePqn4Zd",
        "colab_type": "text"
      },
      "source": [
        "![picture](https://drive.google.com/uc?id=1neib06uzVlDmy_H930QuEE4LhfPjPu58)\n"
      ]
    },
    {
      "cell_type": "markdown",
      "metadata": {
        "id": "teTe6ZBi1mqy",
        "colab_type": "text"
      },
      "source": [
        "# **CAMPUS RECRUITMENT**\n",
        "\n",
        "\n"
      ]
    },
    {
      "cell_type": "markdown",
      "metadata": {
        "id": "R3VR8OOP1w3g",
        "colab_type": "text"
      },
      "source": [
        "**Data set Details:**\n",
        "\n",
        "The above data is collected from a University in Bnagalore called 'Jain University'. It contains placement data of students in campus.\n",
        "\n",
        " **Attributes**\n",
        " \n",
        "Secondary and higher secondary school percentage \n",
        "\n",
        "Degree specialization\n",
        "\n",
        "Type and Work experience \n",
        "\n",
        " Salary offers to the placed students"
      ]
    },
    {
      "cell_type": "markdown",
      "metadata": {
        "id": "GvpA_0gG26z6",
        "colab_type": "text"
      },
      "source": [
        "# **Mission Statament**\n",
        "\n",
        "Which factor influenced a candidate in getting placed?\n",
        "\n",
        "Does percentage matters for one to get placed?\n",
        "\n",
        "Which degree specialization is much demanded by corporate?\n",
        "\n",
        "Play with the data conducting all statistical tests."
      ]
    },
    {
      "cell_type": "code",
      "metadata": {
        "id": "Utj0HmiT0hO4",
        "colab_type": "code",
        "colab": {}
      },
      "source": [
        "import pandas as pd\n",
        "import numpy as np\n",
        "import matplotlib.pyplot as plt\n"
      ],
      "execution_count": 0,
      "outputs": []
    },
    {
      "cell_type": "markdown",
      "metadata": {
        "id": "IHrnw-Bj3TBN",
        "colab_type": "text"
      },
      "source": [
        "**Sample Data set**\n"
      ]
    },
    {
      "cell_type": "code",
      "metadata": {
        "id": "lQ_Dms-U0pMb",
        "colab_type": "code",
        "outputId": "59f47095-be46-4e7e-f2b9-41d951c7b798",
        "colab": {
          "base_uri": "https://localhost:8080/",
          "height": 202
        }
      },
      "source": [
        "df = pd.read_csv('/content/Placement_Data_Full_Class.csv')\n",
        "df.head()"
      ],
      "execution_count": 9,
      "outputs": [
        {
          "output_type": "execute_result",
          "data": {
            "text/html": [
              "<div>\n",
              "<style scoped>\n",
              "    .dataframe tbody tr th:only-of-type {\n",
              "        vertical-align: middle;\n",
              "    }\n",
              "\n",
              "    .dataframe tbody tr th {\n",
              "        vertical-align: top;\n",
              "    }\n",
              "\n",
              "    .dataframe thead th {\n",
              "        text-align: right;\n",
              "    }\n",
              "</style>\n",
              "<table border=\"1\" class=\"dataframe\">\n",
              "  <thead>\n",
              "    <tr style=\"text-align: right;\">\n",
              "      <th></th>\n",
              "      <th>sl_no</th>\n",
              "      <th>gender</th>\n",
              "      <th>ssc_p</th>\n",
              "      <th>ssc_b</th>\n",
              "      <th>hsc_p</th>\n",
              "      <th>hsc_b</th>\n",
              "      <th>hsc_s</th>\n",
              "      <th>degree_p</th>\n",
              "      <th>degree_t</th>\n",
              "      <th>workex</th>\n",
              "      <th>etest_p</th>\n",
              "      <th>specialisation</th>\n",
              "      <th>mba_p</th>\n",
              "      <th>status</th>\n",
              "      <th>salary</th>\n",
              "    </tr>\n",
              "  </thead>\n",
              "  <tbody>\n",
              "    <tr>\n",
              "      <th>0</th>\n",
              "      <td>1</td>\n",
              "      <td>M</td>\n",
              "      <td>67.00</td>\n",
              "      <td>Others</td>\n",
              "      <td>91.00</td>\n",
              "      <td>Others</td>\n",
              "      <td>Commerce</td>\n",
              "      <td>58.00</td>\n",
              "      <td>Sci&amp;Tech</td>\n",
              "      <td>No</td>\n",
              "      <td>55.0</td>\n",
              "      <td>Mkt&amp;HR</td>\n",
              "      <td>58.80</td>\n",
              "      <td>Placed</td>\n",
              "      <td>270000.0</td>\n",
              "    </tr>\n",
              "    <tr>\n",
              "      <th>1</th>\n",
              "      <td>2</td>\n",
              "      <td>M</td>\n",
              "      <td>79.33</td>\n",
              "      <td>Central</td>\n",
              "      <td>78.33</td>\n",
              "      <td>Others</td>\n",
              "      <td>Science</td>\n",
              "      <td>77.48</td>\n",
              "      <td>Sci&amp;Tech</td>\n",
              "      <td>Yes</td>\n",
              "      <td>86.5</td>\n",
              "      <td>Mkt&amp;Fin</td>\n",
              "      <td>66.28</td>\n",
              "      <td>Placed</td>\n",
              "      <td>200000.0</td>\n",
              "    </tr>\n",
              "    <tr>\n",
              "      <th>2</th>\n",
              "      <td>3</td>\n",
              "      <td>M</td>\n",
              "      <td>65.00</td>\n",
              "      <td>Central</td>\n",
              "      <td>68.00</td>\n",
              "      <td>Central</td>\n",
              "      <td>Arts</td>\n",
              "      <td>64.00</td>\n",
              "      <td>Comm&amp;Mgmt</td>\n",
              "      <td>No</td>\n",
              "      <td>75.0</td>\n",
              "      <td>Mkt&amp;Fin</td>\n",
              "      <td>57.80</td>\n",
              "      <td>Placed</td>\n",
              "      <td>250000.0</td>\n",
              "    </tr>\n",
              "    <tr>\n",
              "      <th>3</th>\n",
              "      <td>4</td>\n",
              "      <td>M</td>\n",
              "      <td>56.00</td>\n",
              "      <td>Central</td>\n",
              "      <td>52.00</td>\n",
              "      <td>Central</td>\n",
              "      <td>Science</td>\n",
              "      <td>52.00</td>\n",
              "      <td>Sci&amp;Tech</td>\n",
              "      <td>No</td>\n",
              "      <td>66.0</td>\n",
              "      <td>Mkt&amp;HR</td>\n",
              "      <td>59.43</td>\n",
              "      <td>Not Placed</td>\n",
              "      <td>NaN</td>\n",
              "    </tr>\n",
              "    <tr>\n",
              "      <th>4</th>\n",
              "      <td>5</td>\n",
              "      <td>M</td>\n",
              "      <td>85.80</td>\n",
              "      <td>Central</td>\n",
              "      <td>73.60</td>\n",
              "      <td>Central</td>\n",
              "      <td>Commerce</td>\n",
              "      <td>73.30</td>\n",
              "      <td>Comm&amp;Mgmt</td>\n",
              "      <td>No</td>\n",
              "      <td>96.8</td>\n",
              "      <td>Mkt&amp;Fin</td>\n",
              "      <td>55.50</td>\n",
              "      <td>Placed</td>\n",
              "      <td>425000.0</td>\n",
              "    </tr>\n",
              "  </tbody>\n",
              "</table>\n",
              "</div>"
            ],
            "text/plain": [
              "   sl_no gender  ssc_p    ssc_b  ...  specialisation  mba_p      status    salary\n",
              "0      1      M  67.00   Others  ...          Mkt&HR  58.80      Placed  270000.0\n",
              "1      2      M  79.33  Central  ...         Mkt&Fin  66.28      Placed  200000.0\n",
              "2      3      M  65.00  Central  ...         Mkt&Fin  57.80      Placed  250000.0\n",
              "3      4      M  56.00  Central  ...          Mkt&HR  59.43  Not Placed       NaN\n",
              "4      5      M  85.80  Central  ...         Mkt&Fin  55.50      Placed  425000.0\n",
              "\n",
              "[5 rows x 15 columns]"
            ]
          },
          "metadata": {
            "tags": []
          },
          "execution_count": 9
        }
      ]
    },
    {
      "cell_type": "markdown",
      "metadata": {
        "id": "XYXaGD409g94",
        "colab_type": "text"
      },
      "source": [
        "# **Univariate Analysis**\n",
        "\n",
        "Lets look at the statistical summary of the data"
      ]
    },
    {
      "cell_type": "markdown",
      "metadata": {
        "id": "3I7udDnT3bru",
        "colab_type": "text"
      },
      "source": [
        "The above data set contains 215 entries and 15 different columns.\n",
        "\n"
      ]
    },
    {
      "cell_type": "code",
      "metadata": {
        "id": "41PS3mv_3vA_",
        "colab_type": "code",
        "outputId": "670cf896-f6d4-4dd5-ce4d-977680148abc",
        "colab": {
          "base_uri": "https://localhost:8080/",
          "height": 509
        }
      },
      "source": [
        "df.describe(include='all').T"
      ],
      "execution_count": 3,
      "outputs": [
        {
          "output_type": "execute_result",
          "data": {
            "text/html": [
              "<div>\n",
              "<style scoped>\n",
              "    .dataframe tbody tr th:only-of-type {\n",
              "        vertical-align: middle;\n",
              "    }\n",
              "\n",
              "    .dataframe tbody tr th {\n",
              "        vertical-align: top;\n",
              "    }\n",
              "\n",
              "    .dataframe thead th {\n",
              "        text-align: right;\n",
              "    }\n",
              "</style>\n",
              "<table border=\"1\" class=\"dataframe\">\n",
              "  <thead>\n",
              "    <tr style=\"text-align: right;\">\n",
              "      <th></th>\n",
              "      <th>count</th>\n",
              "      <th>unique</th>\n",
              "      <th>top</th>\n",
              "      <th>freq</th>\n",
              "      <th>mean</th>\n",
              "      <th>std</th>\n",
              "      <th>min</th>\n",
              "      <th>25%</th>\n",
              "      <th>50%</th>\n",
              "      <th>75%</th>\n",
              "      <th>max</th>\n",
              "    </tr>\n",
              "  </thead>\n",
              "  <tbody>\n",
              "    <tr>\n",
              "      <th>sl_no</th>\n",
              "      <td>215</td>\n",
              "      <td>NaN</td>\n",
              "      <td>NaN</td>\n",
              "      <td>NaN</td>\n",
              "      <td>108</td>\n",
              "      <td>62.2093</td>\n",
              "      <td>1</td>\n",
              "      <td>54.5</td>\n",
              "      <td>108</td>\n",
              "      <td>161.5</td>\n",
              "      <td>215</td>\n",
              "    </tr>\n",
              "    <tr>\n",
              "      <th>gender</th>\n",
              "      <td>215</td>\n",
              "      <td>2</td>\n",
              "      <td>M</td>\n",
              "      <td>139</td>\n",
              "      <td>NaN</td>\n",
              "      <td>NaN</td>\n",
              "      <td>NaN</td>\n",
              "      <td>NaN</td>\n",
              "      <td>NaN</td>\n",
              "      <td>NaN</td>\n",
              "      <td>NaN</td>\n",
              "    </tr>\n",
              "    <tr>\n",
              "      <th>ssc_p</th>\n",
              "      <td>215</td>\n",
              "      <td>NaN</td>\n",
              "      <td>NaN</td>\n",
              "      <td>NaN</td>\n",
              "      <td>67.3034</td>\n",
              "      <td>10.8272</td>\n",
              "      <td>40.89</td>\n",
              "      <td>60.6</td>\n",
              "      <td>67</td>\n",
              "      <td>75.7</td>\n",
              "      <td>89.4</td>\n",
              "    </tr>\n",
              "    <tr>\n",
              "      <th>ssc_b</th>\n",
              "      <td>215</td>\n",
              "      <td>2</td>\n",
              "      <td>Central</td>\n",
              "      <td>116</td>\n",
              "      <td>NaN</td>\n",
              "      <td>NaN</td>\n",
              "      <td>NaN</td>\n",
              "      <td>NaN</td>\n",
              "      <td>NaN</td>\n",
              "      <td>NaN</td>\n",
              "      <td>NaN</td>\n",
              "    </tr>\n",
              "    <tr>\n",
              "      <th>hsc_p</th>\n",
              "      <td>215</td>\n",
              "      <td>NaN</td>\n",
              "      <td>NaN</td>\n",
              "      <td>NaN</td>\n",
              "      <td>66.3332</td>\n",
              "      <td>10.8975</td>\n",
              "      <td>37</td>\n",
              "      <td>60.9</td>\n",
              "      <td>65</td>\n",
              "      <td>73</td>\n",
              "      <td>97.7</td>\n",
              "    </tr>\n",
              "    <tr>\n",
              "      <th>hsc_b</th>\n",
              "      <td>215</td>\n",
              "      <td>2</td>\n",
              "      <td>Others</td>\n",
              "      <td>131</td>\n",
              "      <td>NaN</td>\n",
              "      <td>NaN</td>\n",
              "      <td>NaN</td>\n",
              "      <td>NaN</td>\n",
              "      <td>NaN</td>\n",
              "      <td>NaN</td>\n",
              "      <td>NaN</td>\n",
              "    </tr>\n",
              "    <tr>\n",
              "      <th>hsc_s</th>\n",
              "      <td>215</td>\n",
              "      <td>3</td>\n",
              "      <td>Commerce</td>\n",
              "      <td>113</td>\n",
              "      <td>NaN</td>\n",
              "      <td>NaN</td>\n",
              "      <td>NaN</td>\n",
              "      <td>NaN</td>\n",
              "      <td>NaN</td>\n",
              "      <td>NaN</td>\n",
              "      <td>NaN</td>\n",
              "    </tr>\n",
              "    <tr>\n",
              "      <th>degree_p</th>\n",
              "      <td>215</td>\n",
              "      <td>NaN</td>\n",
              "      <td>NaN</td>\n",
              "      <td>NaN</td>\n",
              "      <td>66.3702</td>\n",
              "      <td>7.35874</td>\n",
              "      <td>50</td>\n",
              "      <td>61</td>\n",
              "      <td>66</td>\n",
              "      <td>72</td>\n",
              "      <td>91</td>\n",
              "    </tr>\n",
              "    <tr>\n",
              "      <th>degree_t</th>\n",
              "      <td>215</td>\n",
              "      <td>3</td>\n",
              "      <td>Comm&amp;Mgmt</td>\n",
              "      <td>145</td>\n",
              "      <td>NaN</td>\n",
              "      <td>NaN</td>\n",
              "      <td>NaN</td>\n",
              "      <td>NaN</td>\n",
              "      <td>NaN</td>\n",
              "      <td>NaN</td>\n",
              "      <td>NaN</td>\n",
              "    </tr>\n",
              "    <tr>\n",
              "      <th>workex</th>\n",
              "      <td>215</td>\n",
              "      <td>2</td>\n",
              "      <td>No</td>\n",
              "      <td>141</td>\n",
              "      <td>NaN</td>\n",
              "      <td>NaN</td>\n",
              "      <td>NaN</td>\n",
              "      <td>NaN</td>\n",
              "      <td>NaN</td>\n",
              "      <td>NaN</td>\n",
              "      <td>NaN</td>\n",
              "    </tr>\n",
              "    <tr>\n",
              "      <th>etest_p</th>\n",
              "      <td>215</td>\n",
              "      <td>NaN</td>\n",
              "      <td>NaN</td>\n",
              "      <td>NaN</td>\n",
              "      <td>72.1006</td>\n",
              "      <td>13.276</td>\n",
              "      <td>50</td>\n",
              "      <td>60</td>\n",
              "      <td>71</td>\n",
              "      <td>83.5</td>\n",
              "      <td>98</td>\n",
              "    </tr>\n",
              "    <tr>\n",
              "      <th>specialisation</th>\n",
              "      <td>215</td>\n",
              "      <td>2</td>\n",
              "      <td>Mkt&amp;Fin</td>\n",
              "      <td>120</td>\n",
              "      <td>NaN</td>\n",
              "      <td>NaN</td>\n",
              "      <td>NaN</td>\n",
              "      <td>NaN</td>\n",
              "      <td>NaN</td>\n",
              "      <td>NaN</td>\n",
              "      <td>NaN</td>\n",
              "    </tr>\n",
              "    <tr>\n",
              "      <th>mba_p</th>\n",
              "      <td>215</td>\n",
              "      <td>NaN</td>\n",
              "      <td>NaN</td>\n",
              "      <td>NaN</td>\n",
              "      <td>62.2782</td>\n",
              "      <td>5.83338</td>\n",
              "      <td>51.21</td>\n",
              "      <td>57.945</td>\n",
              "      <td>62</td>\n",
              "      <td>66.255</td>\n",
              "      <td>77.89</td>\n",
              "    </tr>\n",
              "    <tr>\n",
              "      <th>status</th>\n",
              "      <td>215</td>\n",
              "      <td>2</td>\n",
              "      <td>Placed</td>\n",
              "      <td>148</td>\n",
              "      <td>NaN</td>\n",
              "      <td>NaN</td>\n",
              "      <td>NaN</td>\n",
              "      <td>NaN</td>\n",
              "      <td>NaN</td>\n",
              "      <td>NaN</td>\n",
              "      <td>NaN</td>\n",
              "    </tr>\n",
              "    <tr>\n",
              "      <th>salary</th>\n",
              "      <td>148</td>\n",
              "      <td>NaN</td>\n",
              "      <td>NaN</td>\n",
              "      <td>NaN</td>\n",
              "      <td>288655</td>\n",
              "      <td>93457.5</td>\n",
              "      <td>200000</td>\n",
              "      <td>240000</td>\n",
              "      <td>265000</td>\n",
              "      <td>300000</td>\n",
              "      <td>940000</td>\n",
              "    </tr>\n",
              "  </tbody>\n",
              "</table>\n",
              "</div>"
            ],
            "text/plain": [
              "               count unique        top freq  ...     25%     50%     75%     max\n",
              "sl_no            215    NaN        NaN  NaN  ...    54.5     108   161.5     215\n",
              "gender           215      2          M  139  ...     NaN     NaN     NaN     NaN\n",
              "ssc_p            215    NaN        NaN  NaN  ...    60.6      67    75.7    89.4\n",
              "ssc_b            215      2    Central  116  ...     NaN     NaN     NaN     NaN\n",
              "hsc_p            215    NaN        NaN  NaN  ...    60.9      65      73    97.7\n",
              "hsc_b            215      2     Others  131  ...     NaN     NaN     NaN     NaN\n",
              "hsc_s            215      3   Commerce  113  ...     NaN     NaN     NaN     NaN\n",
              "degree_p         215    NaN        NaN  NaN  ...      61      66      72      91\n",
              "degree_t         215      3  Comm&Mgmt  145  ...     NaN     NaN     NaN     NaN\n",
              "workex           215      2         No  141  ...     NaN     NaN     NaN     NaN\n",
              "etest_p          215    NaN        NaN  NaN  ...      60      71    83.5      98\n",
              "specialisation   215      2    Mkt&Fin  120  ...     NaN     NaN     NaN     NaN\n",
              "mba_p            215    NaN        NaN  NaN  ...  57.945      62  66.255   77.89\n",
              "status           215      2     Placed  148  ...     NaN     NaN     NaN     NaN\n",
              "salary           148    NaN        NaN  NaN  ...  240000  265000  300000  940000\n",
              "\n",
              "[15 rows x 11 columns]"
            ]
          },
          "metadata": {
            "tags": []
          },
          "execution_count": 3
        }
      ]
    },
    {
      "cell_type": "markdown",
      "metadata": {
        "id": "nfNvy7Io3-gl",
        "colab_type": "text"
      },
      "source": [
        "**Initial Observations**\n",
        "\n",
        "148 students out of 215 are placed.\n",
        "\n",
        "Most of the stduents do not have woek experience.\n",
        "\n",
        "The average salary Jain MBA students have got is Rs 2,88,655.\n",
        "\n",
        "The salary is in the range of Rs 2,00,000 to 9,40,000.\n",
        "\n",
        "\n"
      ]
    },
    {
      "cell_type": "code",
      "metadata": {
        "id": "gou7U-tQ6Wo6",
        "colab_type": "code",
        "colab": {}
      },
      "source": [
        "df_original = df\n"
      ],
      "execution_count": 0,
      "outputs": []
    },
    {
      "cell_type": "markdown",
      "metadata": {
        "id": "O3Q6_rttj3eU",
        "colab_type": "text"
      },
      "source": [
        "Let us look at the columns"
      ]
    },
    {
      "cell_type": "code",
      "metadata": {
        "id": "tKnZml765uYU",
        "colab_type": "code",
        "outputId": "d48d3f17-8f3b-4a04-b649-e7c316155f1e",
        "colab": {
          "base_uri": "https://localhost:8080/",
          "height": 87
        }
      },
      "source": [
        "df.columns"
      ],
      "execution_count": 4,
      "outputs": [
        {
          "output_type": "execute_result",
          "data": {
            "text/plain": [
              "Index(['sl_no', 'gender', 'ssc_p', 'ssc_b', 'hsc_p', 'hsc_b', 'hsc_s',\n",
              "       'degree_p', 'degree_t', 'workex', 'etest_p', 'specialisation', 'mba_p',\n",
              "       'status', 'salary'],\n",
              "      dtype='object')"
            ]
          },
          "metadata": {
            "tags": []
          },
          "execution_count": 4
        }
      ]
    },
    {
      "cell_type": "markdown",
      "metadata": {
        "id": "NHX9bL_65xNz",
        "colab_type": "text"
      },
      "source": [
        "**Column Details**\n",
        "\n",
        "sl_no : Serial Number\n",
        "\n",
        "gender :Gender- Male='M',Female='F'\n",
        "\n",
        "ssc_p : Secondary Education percentage- 10th Grade\n",
        "\n",
        "ssc_b : Board of Education- Central/ Others\n",
        "\n",
        "hsc_p : Higher Secondary Education percentage- 12th Grade\n",
        "\n",
        "hsc_b : Board of Education- Central/ Others\n",
        "\n",
        "hsc_s : Specialization in Higher Secondary Education\n",
        "\n",
        "degree_p : Degree Percentage\n",
        "\n",
        "degree_t : Under Graduation(Degree type)- Field of degree education\n",
        "\n",
        "workex : Work Experience\n",
        "\n",
        "etest_p : Employability test percentage ( conducted by college)\n",
        "\n",
        "specialisationPost :  Graduation(MBA)- Specialization\n",
        "\n",
        "mba_p : MBA percentage\n",
        "\n",
        "status : Status of placement- Placed/Not placed\n",
        "\n",
        "salary : Salary offered by corporate to candidates"
      ]
    },
    {
      "cell_type": "markdown",
      "metadata": {
        "id": "f5Wt0Sxc-cW6",
        "colab_type": "text"
      },
      "source": [
        "**Checking for Missing Values**"
      ]
    },
    {
      "cell_type": "code",
      "metadata": {
        "id": "a2FJJvhM-kKY",
        "colab_type": "code",
        "outputId": "dac1998e-43dd-45d5-87b6-388688a39259",
        "colab": {
          "base_uri": "https://localhost:8080/",
          "height": 295
        }
      },
      "source": [
        "df.isnull().sum()"
      ],
      "execution_count": 5,
      "outputs": [
        {
          "output_type": "execute_result",
          "data": {
            "text/plain": [
              "sl_no              0\n",
              "gender             0\n",
              "ssc_p              0\n",
              "ssc_b              0\n",
              "hsc_p              0\n",
              "hsc_b              0\n",
              "hsc_s              0\n",
              "degree_p           0\n",
              "degree_t           0\n",
              "workex             0\n",
              "etest_p            0\n",
              "specialisation     0\n",
              "mba_p              0\n",
              "status             0\n",
              "salary            67\n",
              "dtype: int64"
            ]
          },
          "metadata": {
            "tags": []
          },
          "execution_count": 5
        }
      ]
    },
    {
      "cell_type": "markdown",
      "metadata": {
        "id": "P88f4Ypn_fhN",
        "colab_type": "text"
      },
      "source": [
        "We find that there are absolutely no missing values in our data except for salary. We can infer that salary column has missing values because some of the students have not been placed."
      ]
    },
    {
      "cell_type": "markdown",
      "metadata": {
        "id": "uywmRXAKB1kX",
        "colab_type": "text"
      },
      "source": [
        "We shall try to find if percentage matters for one to get placed.\n"
      ]
    },
    {
      "cell_type": "markdown",
      "metadata": {
        "id": "vbmqIfBuCflx",
        "colab_type": "text"
      },
      "source": [
        "**Degree percentage statistics**"
      ]
    },
    {
      "cell_type": "code",
      "metadata": {
        "id": "wRA6wFAHCLvx",
        "colab_type": "code",
        "outputId": "c59b1ece-5d6a-4844-aae6-5b6879aec54f",
        "colab": {
          "base_uri": "https://localhost:8080/",
          "height": 266
        }
      },
      "source": [
        "color = dict(boxes='DarkGreen', whiskers='DarkOrange',medians='DarkBlue', caps='Gray')\n",
        "df['degree_p'].plot.box(color = color , sym = 'r+')\n",
        "plt.show()"
      ],
      "execution_count": 6,
      "outputs": [
        {
          "output_type": "display_data",
          "data": {
            "image/png": "[encoded data removed]",
            "text/plain": [
              "<Figure size 432x288 with 1 Axes>"
            ]
          },
          "metadata": {
            "tags": [],
            "needs_background": "light"
          }
        }
      ]
    },
    {
      "cell_type": "markdown",
      "metadata": {
        "id": "GFMnwl6JErWN",
        "colab_type": "text"
      },
      "source": [
        "We can see that the degree percentage is in the range of 50 to 85 with a single exception of 91%"
      ]
    },
    {
      "cell_type": "code",
      "metadata": {
        "id": "UbScFfoid6qc",
        "colab_type": "code",
        "colab": {}
      },
      "source": [
        "df['status'] = np.where(df['status'] == 'Placed',1,0)\n"
      ],
      "execution_count": 0,
      "outputs": []
    },
    {
      "cell_type": "markdown",
      "metadata": {
        "id": "bni_mTOzZoNh",
        "colab_type": "text"
      },
      "source": [
        "# **Relation between employability test percentage and Placement status.**"
      ]
    },
    {
      "cell_type": "code",
      "metadata": {
        "id": "CIG5JhPKajqE",
        "colab_type": "code",
        "colab": {
          "base_uri": "https://localhost:8080/",
          "height": 283
        },
        "outputId": "f53b1350-91eb-467a-d566-d7788e609de3"
      },
      "source": [
        "x_1 = [x for x in df['etest_p']]\n",
        "\n",
        "y_1 = [y  for y in df['status']]\n",
        "import matplotlib.pyplot as plot\n",
        "plot.scatter(x_1, y_1)"
      ],
      "execution_count": 108,
      "outputs": [
        {
          "output_type": "execute_result",
          "data": {
            "text/plain": [
              "<matplotlib.collections.PathCollection at 0x7f16e503d240>"
            ]
          },
          "metadata": {
            "tags": []
          },
          "execution_count": 108
        },
        {
          "output_type": "display_data",
          "data": {
            "image/png": "[encoded data removed]",
            "text/plain": [
              "<Figure size 432x288 with 1 Axes>"
            ]
          },
          "metadata": {
            "tags": [],
            "needs_background": "light"
          }
        }
      ]
    },
    {
      "cell_type": "markdown",
      "metadata": {
        "id": "w-CWIaDkcNkp",
        "colab_type": "text"
      },
      "source": [
        "From the graph we find that there is no correlation between employability test scores and Placement Status"
      ]
    },
    {
      "cell_type": "markdown",
      "metadata": {
        "id": "OFMrS7KLc_hf",
        "colab_type": "text"
      },
      "source": [
        "# **Relation between Employability test percentage and Salary.**"
      ]
    },
    {
      "cell_type": "code",
      "metadata": {
        "id": "E75CEjf_cg1X",
        "colab_type": "code",
        "colab": {
          "base_uri": "https://localhost:8080/",
          "height": 283
        },
        "outputId": "f0751944-0b6f-4e58-cc12-5ec46fe415ef"
      },
      "source": [
        "x_2 = [x for x in df['etest_p']]\n",
        "\n",
        "y_2 = [y  for y in df['salary']]\n",
        "import matplotlib.pyplot as plot\n",
        "plot.scatter(x_2, y_2)"
      ],
      "execution_count": 109,
      "outputs": [
        {
          "output_type": "execute_result",
          "data": {
            "text/plain": [
              "<matplotlib.collections.PathCollection at 0x7f16e4f8d3c8>"
            ]
          },
          "metadata": {
            "tags": []
          },
          "execution_count": 109
        },
        {
          "output_type": "display_data",
          "data": {
            "image/png": "[encoded data removed]",
            "text/plain": [
              "<Figure size 432x288 with 1 Axes>"
            ]
          },
          "metadata": {
            "tags": [],
            "needs_background": "light"
          }
        }
      ]
    },
    {
      "cell_type": "markdown",
      "metadata": {
        "id": "LaEeRroLcxDE",
        "colab_type": "text"
      },
      "source": [
        "There also seems to be no correlation between employability test scores and Salary offered."
      ]
    },
    {
      "cell_type": "markdown",
      "metadata": {
        "id": "IkOyr_hroV58",
        "colab_type": "text"
      },
      "source": [
        "# **Relation between Under Graduate degree percentage and Placement status.**"
      ]
    },
    {
      "cell_type": "code",
      "metadata": {
        "id": "qMYEIuKzZw04",
        "colab_type": "code",
        "colab": {
          "base_uri": "https://localhost:8080/",
          "height": 283
        },
        "outputId": "a6312721-2e0f-4c5c-d467-44d5f408b6df"
      },
      "source": [
        "x1 = [x for x in df['degree_p']]\n",
        "x2 = [ x for x in df['mba_p']]\n",
        "y1 = [y  for y in df['status']]\n",
        "import matplotlib.pyplot as plot\n",
        "plot.scatter(x1, y1)\n",
        "  "
      ],
      "execution_count": 107,
      "outputs": [
        {
          "output_type": "execute_result",
          "data": {
            "text/plain": [
              "<matplotlib.collections.PathCollection at 0x7f16e5066898>"
            ]
          },
          "metadata": {
            "tags": []
          },
          "execution_count": 107
        },
        {
          "output_type": "display_data",
          "data": {
            "image/png": "[encoded data removed]",
            "text/plain": [
              "<Figure size 432x288 with 1 Axes>"
            ]
          },
          "metadata": {
            "tags": [],
            "needs_background": "light"
          }
        }
      ]
    },
    {
      "cell_type": "markdown",
      "metadata": {
        "id": "KSrvCQSjmPY1",
        "colab_type": "text"
      },
      "source": [
        "From the above graph we can infer that students who have scored less than 55 percent in their undergraduate degree have not got placed.\n",
        "\n",
        "Likewise all those who have scored more than 80 percent in their undergrad have got placed without fail."
      ]
    },
    {
      "cell_type": "markdown",
      "metadata": {
        "id": "hMS9Eg4tnc_8",
        "colab_type": "text"
      },
      "source": [
        "# **Relation between MBA percent and Placement status.**"
      ]
    },
    {
      "cell_type": "code",
      "metadata": {
        "id": "05fOcgP6nqFA",
        "colab_type": "code",
        "outputId": "40e8617d-ddec-4019-d87b-fe41836f7a18",
        "colab": {
          "base_uri": "https://localhost:8080/",
          "height": 283
        }
      },
      "source": [
        "plot.scatter(x2, y1)"
      ],
      "execution_count": 0,
      "outputs": [
        {
          "output_type": "execute_result",
          "data": {
            "text/plain": [
              "<matplotlib.collections.PathCollection at 0x7fd60204c198>"
            ]
          },
          "metadata": {
            "tags": []
          },
          "execution_count": 74
        },
        {
          "output_type": "display_data",
          "data": {
            "image/png": "[encoded data removed]",
            "text/plain": [
              "<Figure size 432x288 with 1 Axes>"
            ]
          },
          "metadata": {
            "tags": [],
            "needs_background": "light"
          }
        }
      ]
    },
    {
      "cell_type": "markdown",
      "metadata": {
        "id": "diqUX_eIn3fF",
        "colab_type": "text"
      },
      "source": [
        "We can observe that there is not much correlation between MBA percentage and student placement. We can even see that people who's MBA percentage is as low as 52% have also got placed "
      ]
    },
    {
      "cell_type": "markdown",
      "metadata": {
        "id": "pxwZcltercYN",
        "colab_type": "text"
      },
      "source": [
        "# **Relation between average percent of (ssc,hsc,degree and mba) and Placement status.**"
      ]
    },
    {
      "cell_type": "code",
      "metadata": {
        "id": "-g2-TMR4sgdt",
        "colab_type": "code",
        "outputId": "42d46810-2efd-4977-b4f1-e5c3654feafb",
        "colab": {
          "base_uri": "https://localhost:8080/",
          "height": 283
        }
      },
      "source": [
        "df['average'] = (df['ssc_p'] + df ['hsc_p']+df['degree_p']+df['mba_p'])/4\n",
        "x3 = [x for x in df['average']]\n",
        "plot.scatter(x3, y1)"
      ],
      "execution_count": 114,
      "outputs": [
        {
          "output_type": "execute_result",
          "data": {
            "text/plain": [
              "<matplotlib.collections.PathCollection at 0x7f16e7de9860>"
            ]
          },
          "metadata": {
            "tags": []
          },
          "execution_count": 114
        },
        {
          "output_type": "display_data",
          "data": {
            "image/png": "[encoded data removed]",
            "text/plain": [
              "<Figure size 432x288 with 1 Axes>"
            ]
          },
          "metadata": {
            "tags": [],
            "needs_background": "light"
          }
        }
      ]
    },
    {
      "cell_type": "markdown",
      "metadata": {
        "id": "wkpomZefuyl6",
        "colab_type": "text"
      },
      "source": [
        "We can see that almost all of the students who's average percent is greater than 70 get placed. (99.1% of the students)\n",
        "\n",
        "That is to say there is a 99% probablity that the student who has secured First Class distinction during his HSC, SSC, Degree and MBA will get placed."
      ]
    },
    {
      "cell_type": "code",
      "metadata": {
        "id": "x4V0UM9DIPz5",
        "colab_type": "code",
        "outputId": "bb07aaf2-ff5e-4932-af62-b88ab0576121",
        "colab": {
          "base_uri": "https://localhost:8080/",
          "height": 435
        }
      },
      "source": [
        "df1 = pd.get_dummies(df, columns = ['degree_t','hsc_s','specialisation'])\n",
        "df1['workex'] = np.where(df1['workex'] == 'Yes',1,0)\n",
        "df1.drop('average', axis = 1)\n",
        "df1"
      ],
      "execution_count": 0,
      "outputs": [
        {
          "output_type": "execute_result",
          "data": {
            "text/html": [
              "<div>\n",
              "<style scoped>\n",
              "    .dataframe tbody tr th:only-of-type {\n",
              "        vertical-align: middle;\n",
              "    }\n",
              "\n",
              "    .dataframe tbody tr th {\n",
              "        vertical-align: top;\n",
              "    }\n",
              "\n",
              "    .dataframe thead th {\n",
              "        text-align: right;\n",
              "    }\n",
              "</style>\n",
              "<table border=\"1\" class=\"dataframe\">\n",
              "  <thead>\n",
              "    <tr style=\"text-align: right;\">\n",
              "      <th></th>\n",
              "      <th>sl_no</th>\n",
              "      <th>gender</th>\n",
              "      <th>ssc_p</th>\n",
              "      <th>ssc_b</th>\n",
              "      <th>hsc_p</th>\n",
              "      <th>hsc_b</th>\n",
              "      <th>degree_p</th>\n",
              "      <th>workex</th>\n",
              "      <th>etest_p</th>\n",
              "      <th>mba_p</th>\n",
              "      <th>status</th>\n",
              "      <th>salary</th>\n",
              "      <th>average</th>\n",
              "      <th>degree_t_Comm&amp;Mgmt</th>\n",
              "      <th>degree_t_Others</th>\n",
              "      <th>degree_t_Sci&amp;Tech</th>\n",
              "      <th>hsc_s_Arts</th>\n",
              "      <th>hsc_s_Commerce</th>\n",
              "      <th>hsc_s_Science</th>\n",
              "      <th>specialisation_Mkt&amp;Fin</th>\n",
              "      <th>specialisation_Mkt&amp;HR</th>\n",
              "    </tr>\n",
              "  </thead>\n",
              "  <tbody>\n",
              "    <tr>\n",
              "      <th>0</th>\n",
              "      <td>1</td>\n",
              "      <td>M</td>\n",
              "      <td>67.00</td>\n",
              "      <td>Others</td>\n",
              "      <td>91.00</td>\n",
              "      <td>Others</td>\n",
              "      <td>58.00</td>\n",
              "      <td>0</td>\n",
              "      <td>55.0</td>\n",
              "      <td>58.80</td>\n",
              "      <td>1</td>\n",
              "      <td>270000.0</td>\n",
              "      <td>68.7000</td>\n",
              "      <td>0</td>\n",
              "      <td>0</td>\n",
              "      <td>1</td>\n",
              "      <td>0</td>\n",
              "      <td>1</td>\n",
              "      <td>0</td>\n",
              "      <td>0</td>\n",
              "      <td>1</td>\n",
              "    </tr>\n",
              "    <tr>\n",
              "      <th>1</th>\n",
              "      <td>2</td>\n",
              "      <td>M</td>\n",
              "      <td>79.33</td>\n",
              "      <td>Central</td>\n",
              "      <td>78.33</td>\n",
              "      <td>Others</td>\n",
              "      <td>77.48</td>\n",
              "      <td>1</td>\n",
              "      <td>86.5</td>\n",
              "      <td>66.28</td>\n",
              "      <td>1</td>\n",
              "      <td>200000.0</td>\n",
              "      <td>75.3550</td>\n",
              "      <td>0</td>\n",
              "      <td>0</td>\n",
              "      <td>1</td>\n",
              "      <td>0</td>\n",
              "      <td>0</td>\n",
              "      <td>1</td>\n",
              "      <td>1</td>\n",
              "      <td>0</td>\n",
              "    </tr>\n",
              "    <tr>\n",
              "      <th>2</th>\n",
              "      <td>3</td>\n",
              "      <td>M</td>\n",
              "      <td>65.00</td>\n",
              "      <td>Central</td>\n",
              "      <td>68.00</td>\n",
              "      <td>Central</td>\n",
              "      <td>64.00</td>\n",
              "      <td>0</td>\n",
              "      <td>75.0</td>\n",
              "      <td>57.80</td>\n",
              "      <td>1</td>\n",
              "      <td>250000.0</td>\n",
              "      <td>63.7000</td>\n",
              "      <td>1</td>\n",
              "      <td>0</td>\n",
              "      <td>0</td>\n",
              "      <td>1</td>\n",
              "      <td>0</td>\n",
              "      <td>0</td>\n",
              "      <td>1</td>\n",
              "      <td>0</td>\n",
              "    </tr>\n",
              "    <tr>\n",
              "      <th>3</th>\n",
              "      <td>4</td>\n",
              "      <td>M</td>\n",
              "      <td>56.00</td>\n",
              "      <td>Central</td>\n",
              "      <td>52.00</td>\n",
              "      <td>Central</td>\n",
              "      <td>52.00</td>\n",
              "      <td>0</td>\n",
              "      <td>66.0</td>\n",
              "      <td>59.43</td>\n",
              "      <td>0</td>\n",
              "      <td>NaN</td>\n",
              "      <td>54.8575</td>\n",
              "      <td>0</td>\n",
              "      <td>0</td>\n",
              "      <td>1</td>\n",
              "      <td>0</td>\n",
              "      <td>0</td>\n",
              "      <td>1</td>\n",
              "      <td>0</td>\n",
              "      <td>1</td>\n",
              "    </tr>\n",
              "    <tr>\n",
              "      <th>4</th>\n",
              "      <td>5</td>\n",
              "      <td>M</td>\n",
              "      <td>85.80</td>\n",
              "      <td>Central</td>\n",
              "      <td>73.60</td>\n",
              "      <td>Central</td>\n",
              "      <td>73.30</td>\n",
              "      <td>0</td>\n",
              "      <td>96.8</td>\n",
              "      <td>55.50</td>\n",
              "      <td>1</td>\n",
              "      <td>425000.0</td>\n",
              "      <td>72.0500</td>\n",
              "      <td>1</td>\n",
              "      <td>0</td>\n",
              "      <td>0</td>\n",
              "      <td>0</td>\n",
              "      <td>1</td>\n",
              "      <td>0</td>\n",
              "      <td>1</td>\n",
              "      <td>0</td>\n",
              "    </tr>\n",
              "    <tr>\n",
              "      <th>...</th>\n",
              "      <td>...</td>\n",
              "      <td>...</td>\n",
              "      <td>...</td>\n",
              "      <td>...</td>\n",
              "      <td>...</td>\n",
              "      <td>...</td>\n",
              "      <td>...</td>\n",
              "      <td>...</td>\n",
              "      <td>...</td>\n",
              "      <td>...</td>\n",
              "      <td>...</td>\n",
              "      <td>...</td>\n",
              "      <td>...</td>\n",
              "      <td>...</td>\n",
              "      <td>...</td>\n",
              "      <td>...</td>\n",
              "      <td>...</td>\n",
              "      <td>...</td>\n",
              "      <td>...</td>\n",
              "      <td>...</td>\n",
              "      <td>...</td>\n",
              "    </tr>\n",
              "    <tr>\n",
              "      <th>210</th>\n",
              "      <td>211</td>\n",
              "      <td>M</td>\n",
              "      <td>80.60</td>\n",
              "      <td>Others</td>\n",
              "      <td>82.00</td>\n",
              "      <td>Others</td>\n",
              "      <td>77.60</td>\n",
              "      <td>0</td>\n",
              "      <td>91.0</td>\n",
              "      <td>74.49</td>\n",
              "      <td>1</td>\n",
              "      <td>400000.0</td>\n",
              "      <td>78.6725</td>\n",
              "      <td>1</td>\n",
              "      <td>0</td>\n",
              "      <td>0</td>\n",
              "      <td>0</td>\n",
              "      <td>1</td>\n",
              "      <td>0</td>\n",
              "      <td>1</td>\n",
              "      <td>0</td>\n",
              "    </tr>\n",
              "    <tr>\n",
              "      <th>211</th>\n",
              "      <td>212</td>\n",
              "      <td>M</td>\n",
              "      <td>58.00</td>\n",
              "      <td>Others</td>\n",
              "      <td>60.00</td>\n",
              "      <td>Others</td>\n",
              "      <td>72.00</td>\n",
              "      <td>0</td>\n",
              "      <td>74.0</td>\n",
              "      <td>53.62</td>\n",
              "      <td>1</td>\n",
              "      <td>275000.0</td>\n",
              "      <td>60.9050</td>\n",
              "      <td>0</td>\n",
              "      <td>0</td>\n",
              "      <td>1</td>\n",
              "      <td>0</td>\n",
              "      <td>0</td>\n",
              "      <td>1</td>\n",
              "      <td>1</td>\n",
              "      <td>0</td>\n",
              "    </tr>\n",
              "    <tr>\n",
              "      <th>212</th>\n",
              "      <td>213</td>\n",
              "      <td>M</td>\n",
              "      <td>67.00</td>\n",
              "      <td>Others</td>\n",
              "      <td>67.00</td>\n",
              "      <td>Others</td>\n",
              "      <td>73.00</td>\n",
              "      <td>1</td>\n",
              "      <td>59.0</td>\n",
              "      <td>69.72</td>\n",
              "      <td>1</td>\n",
              "      <td>295000.0</td>\n",
              "      <td>69.1800</td>\n",
              "      <td>1</td>\n",
              "      <td>0</td>\n",
              "      <td>0</td>\n",
              "      <td>0</td>\n",
              "      <td>1</td>\n",
              "      <td>0</td>\n",
              "      <td>1</td>\n",
              "      <td>0</td>\n",
              "    </tr>\n",
              "    <tr>\n",
              "      <th>213</th>\n",
              "      <td>214</td>\n",
              "      <td>F</td>\n",
              "      <td>74.00</td>\n",
              "      <td>Others</td>\n",
              "      <td>66.00</td>\n",
              "      <td>Others</td>\n",
              "      <td>58.00</td>\n",
              "      <td>0</td>\n",
              "      <td>70.0</td>\n",
              "      <td>60.23</td>\n",
              "      <td>1</td>\n",
              "      <td>204000.0</td>\n",
              "      <td>64.5575</td>\n",
              "      <td>1</td>\n",
              "      <td>0</td>\n",
              "      <td>0</td>\n",
              "      <td>0</td>\n",
              "      <td>1</td>\n",
              "      <td>0</td>\n",
              "      <td>0</td>\n",
              "      <td>1</td>\n",
              "    </tr>\n",
              "    <tr>\n",
              "      <th>214</th>\n",
              "      <td>215</td>\n",
              "      <td>M</td>\n",
              "      <td>62.00</td>\n",
              "      <td>Central</td>\n",
              "      <td>58.00</td>\n",
              "      <td>Others</td>\n",
              "      <td>53.00</td>\n",
              "      <td>0</td>\n",
              "      <td>89.0</td>\n",
              "      <td>60.22</td>\n",
              "      <td>0</td>\n",
              "      <td>NaN</td>\n",
              "      <td>58.3050</td>\n",
              "      <td>1</td>\n",
              "      <td>0</td>\n",
              "      <td>0</td>\n",
              "      <td>0</td>\n",
              "      <td>0</td>\n",
              "      <td>1</td>\n",
              "      <td>0</td>\n",
              "      <td>1</td>\n",
              "    </tr>\n",
              "  </tbody>\n",
              "</table>\n",
              "<p>215 rows × 21 columns</p>\n",
              "</div>"
            ],
            "text/plain": [
              "     sl_no gender  ...  specialisation_Mkt&Fin specialisation_Mkt&HR\n",
              "0        1      M  ...                       0                     1\n",
              "1        2      M  ...                       1                     0\n",
              "2        3      M  ...                       1                     0\n",
              "3        4      M  ...                       0                     1\n",
              "4        5      M  ...                       1                     0\n",
              "..     ...    ...  ...                     ...                   ...\n",
              "210    211      M  ...                       1                     0\n",
              "211    212      M  ...                       1                     0\n",
              "212    213      M  ...                       1                     0\n",
              "213    214      F  ...                       0                     1\n",
              "214    215      M  ...                       0                     1\n",
              "\n",
              "[215 rows x 21 columns]"
            ]
          },
          "metadata": {
            "tags": []
          },
          "execution_count": 111
        }
      ]
    },
    {
      "cell_type": "markdown",
      "metadata": {
        "id": "MaXcPQ6rJgJc",
        "colab_type": "text"
      },
      "source": [
        "# **Multivariate Analysis**"
      ]
    },
    {
      "cell_type": "code",
      "metadata": {
        "id": "Yn8oO1LfJkCR",
        "colab_type": "code",
        "outputId": "2f388625-4526-4135-8b93-0af2f0e4c631",
        "colab": {
          "base_uri": "https://localhost:8080/",
          "height": 993
        }
      },
      "source": [
        "import seaborn as sns\n",
        "import matplotlib.pyplot as plt\n",
        "fig = plt.figure(figsize = (15,15))\n",
        "sns.heatmap(df1.corr(),cmap='coolwarm')"
      ],
      "execution_count": 0,
      "outputs": [
        {
          "output_type": "execute_result",
          "data": {
            "text/plain": [
              "<matplotlib.axes._subplots.AxesSubplot at 0x7fd601adac88>"
            ]
          },
          "metadata": {
            "tags": []
          },
          "execution_count": 105
        },
        {
          "output_type": "display_data",
          "data": {
            "image/png": "[encoded data removed]",
            "text/plain": [
              "<Figure size 1080x1080 with 2 Axes>"
            ]
          },
          "metadata": {
            "tags": [],
            "needs_background": "light"
          }
        }
      ]
    },
    {
      "cell_type": "markdown",
      "metadata": {
        "id": "VDNTDVk77KKm",
        "colab_type": "text"
      },
      "source": [
        "# **Finding the Relation between Specalization and Placement status.**"
      ]
    },
    {
      "cell_type": "code",
      "metadata": {
        "id": "3kvMxwDF7Wos",
        "colab_type": "code",
        "colab": {
          "base_uri": "https://localhost:8080/",
          "height": 171
        },
        "outputId": "73eacd01-ea18-49fe-d506-7bd0add6a969"
      },
      "source": [
        "ctab = pd.crosstab(df_original['specialisation'],df_original['status'],margins = True)\n",
        "ctab.reset_index()\n",
        "placed =  ctab.loc[:,'Placed'].array\n",
        "not_placed = ctab.loc[:,'Not Placed'].array\n",
        "ctab\n",
        "\n",
        "\n",
        "\n"
      ],
      "execution_count": 56,
      "outputs": [
        {
          "output_type": "execute_result",
          "data": {
            "text/html": [
              "<div>\n",
              "<style scoped>\n",
              "    .dataframe tbody tr th:only-of-type {\n",
              "        vertical-align: middle;\n",
              "    }\n",
              "\n",
              "    .dataframe tbody tr th {\n",
              "        vertical-align: top;\n",
              "    }\n",
              "\n",
              "    .dataframe thead th {\n",
              "        text-align: right;\n",
              "    }\n",
              "</style>\n",
              "<table border=\"1\" class=\"dataframe\">\n",
              "  <thead>\n",
              "    <tr style=\"text-align: right;\">\n",
              "      <th>status</th>\n",
              "      <th>Not Placed</th>\n",
              "      <th>Placed</th>\n",
              "      <th>All</th>\n",
              "    </tr>\n",
              "    <tr>\n",
              "      <th>specialisation</th>\n",
              "      <th></th>\n",
              "      <th></th>\n",
              "      <th></th>\n",
              "    </tr>\n",
              "  </thead>\n",
              "  <tbody>\n",
              "    <tr>\n",
              "      <th>Mkt&amp;Fin</th>\n",
              "      <td>25</td>\n",
              "      <td>95</td>\n",
              "      <td>120</td>\n",
              "    </tr>\n",
              "    <tr>\n",
              "      <th>Mkt&amp;HR</th>\n",
              "      <td>42</td>\n",
              "      <td>53</td>\n",
              "      <td>95</td>\n",
              "    </tr>\n",
              "    <tr>\n",
              "      <th>All</th>\n",
              "      <td>67</td>\n",
              "      <td>148</td>\n",
              "      <td>215</td>\n",
              "    </tr>\n",
              "  </tbody>\n",
              "</table>\n",
              "</div>"
            ],
            "text/plain": [
              "status          Not Placed  Placed  All\n",
              "specialisation                         \n",
              "Mkt&Fin                 25      95  120\n",
              "Mkt&HR                  42      53   95\n",
              "All                     67     148  215"
            ]
          },
          "metadata": {
            "tags": []
          },
          "execution_count": 56
        }
      ]
    },
    {
      "cell_type": "code",
      "metadata": {
        "id": "zOvpU9Zn8RjV",
        "colab_type": "code",
        "colab": {
          "base_uri": "https://localhost:8080/",
          "height": 297
        },
        "outputId": "392dffa2-51fc-4989-826e-9b9c8251dd94"
      },
      "source": [
        "import matplotlib\n",
        "import matplotlib.pyplot as plt\n",
        "import numpy as np\n",
        "\n",
        "\n",
        "labels = ['Mkt&Fin', 'Mkt&Hr','Total']\n",
        "\n",
        "\n",
        "x = np.arange(len(labels))  # the label locations\n",
        "width = 0.35  # the width of the bars\n",
        "\n",
        "fig, ax = plt.subplots()\n",
        "rects1 = ax.bar(x - width/2, placed, width, label='Placed')\n",
        "rects2 = ax.bar(x + width/2, not_placed, width, label='Not Placed')\n",
        "\n",
        "# Add some text for labels, title and custom x-axis tick labels, etc.\n",
        "ax.set_ylabel('Number of Students')\n",
        "ax.set_title('Placement Statistics')\n",
        "ax.set_xticks(x)\n",
        "ax.set_xticklabels(labels)\n",
        "ax.legend()\n",
        "\n",
        "\n",
        "def autolabel(rects):\n",
        "    \"\"\"Attach a text label above each bar in *rects*, displaying its height.\"\"\"\n",
        "    for rect in rects:\n",
        "        height = rect.get_height()\n",
        "        ax.annotate('{}'.format(height),\n",
        "                    xy=(rect.get_x() + rect.get_width() / 2, height),\n",
        "                    xytext=(0, 3),  # 3 points vertical offset\n",
        "                    textcoords=\"offset points\",\n",
        "                    ha='center', va='bottom')\n",
        "\n",
        "\n",
        "autolabel(rects1)\n",
        "autolabel(rects2)\n",
        "\n",
        "fig.tight_layout()\n",
        "\n",
        "plt.show()"
      ],
      "execution_count": 58,
      "outputs": [
        {
          "output_type": "display_data",
          "data": {
            "image/png": "[encoded data removed]",
            "text/plain": [
              "<Figure size 432x288 with 1 Axes>"
            ]
          },
          "metadata": {
            "tags": [],
            "needs_background": "light"
          }
        }
      ]
    },
    {
      "cell_type": "markdown",
      "metadata": {
        "id": "mJ4yrRyrEDe2",
        "colab_type": "text"
      },
      "source": [
        "We can notice that students who have selected Mkt&Fin as their specialization have a higher probablity of getting placed than those students who have selected Mkt&Hr as their specialization\n",
        "\n",
        "**Students    Pobablity(Placed)**\n",
        "\n",
        "Mkt&Fin **0.79**\n",
        "\n",
        "MKt&Hr **0.557**\n"
      ]
    },
    {
      "cell_type": "markdown",
      "metadata": {
        "id": "3FSySIH6GBx-",
        "colab_type": "text"
      },
      "source": [
        "We can therefore say that Mkt&Fin degree holders are in demand in the market"
      ]
    },
    {
      "cell_type": "markdown",
      "metadata": {
        "id": "3U0Vt5CaGb4m",
        "colab_type": "text"
      },
      "source": [
        "\n",
        "\n",
        "\n",
        "# **Finding the relation between Work experience and Placement status.**"
      ]
    },
    {
      "cell_type": "code",
      "metadata": {
        "id": "4H4ZBhuAGsaz",
        "colab_type": "code",
        "colab": {
          "base_uri": "https://localhost:8080/",
          "height": 171
        },
        "outputId": "f798985f-7ea9-4c58-909b-82d5cf267a0c"
      },
      "source": [
        "ctab1 = pd.crosstab(df_original['workex'],df_original['status'],margins = True)\n",
        "ctab1.reset_index()\n",
        "placed1 = ctab1.loc[:,'Placed'].array\n",
        "not_placed1 = ctab1.loc[:,'Not Placed'].array\n",
        "not_placed1\n",
        "ctab1"
      ],
      "execution_count": 63,
      "outputs": [
        {
          "output_type": "execute_result",
          "data": {
            "text/html": [
              "<div>\n",
              "<style scoped>\n",
              "    .dataframe tbody tr th:only-of-type {\n",
              "        vertical-align: middle;\n",
              "    }\n",
              "\n",
              "    .dataframe tbody tr th {\n",
              "        vertical-align: top;\n",
              "    }\n",
              "\n",
              "    .dataframe thead th {\n",
              "        text-align: right;\n",
              "    }\n",
              "</style>\n",
              "<table border=\"1\" class=\"dataframe\">\n",
              "  <thead>\n",
              "    <tr style=\"text-align: right;\">\n",
              "      <th>status</th>\n",
              "      <th>Not Placed</th>\n",
              "      <th>Placed</th>\n",
              "      <th>All</th>\n",
              "    </tr>\n",
              "    <tr>\n",
              "      <th>workex</th>\n",
              "      <th></th>\n",
              "      <th></th>\n",
              "      <th></th>\n",
              "    </tr>\n",
              "  </thead>\n",
              "  <tbody>\n",
              "    <tr>\n",
              "      <th>No</th>\n",
              "      <td>57</td>\n",
              "      <td>84</td>\n",
              "      <td>141</td>\n",
              "    </tr>\n",
              "    <tr>\n",
              "      <th>Yes</th>\n",
              "      <td>10</td>\n",
              "      <td>64</td>\n",
              "      <td>74</td>\n",
              "    </tr>\n",
              "    <tr>\n",
              "      <th>All</th>\n",
              "      <td>67</td>\n",
              "      <td>148</td>\n",
              "      <td>215</td>\n",
              "    </tr>\n",
              "  </tbody>\n",
              "</table>\n",
              "</div>"
            ],
            "text/plain": [
              "status  Not Placed  Placed  All\n",
              "workex                         \n",
              "No              57      84  141\n",
              "Yes             10      64   74\n",
              "All             67     148  215"
            ]
          },
          "metadata": {
            "tags": []
          },
          "execution_count": 63
        }
      ]
    },
    {
      "cell_type": "code",
      "metadata": {
        "id": "NARZhGQTIJxv",
        "colab_type": "code",
        "colab": {
          "base_uri": "https://localhost:8080/",
          "height": 297
        },
        "outputId": "67788e12-a878-470c-ef31-03e6d36bc7c6"
      },
      "source": [
        "\n",
        "\n",
        "labels = ['No Workex', 'Workex','Total']\n",
        "\n",
        "\n",
        "x = np.arange(len(labels))  # the label locations\n",
        "width = 0.35  # the width of the bars\n",
        "\n",
        "fig, ax = plt.subplots()\n",
        "rects1 = ax.bar(x - width/2, placed1, width, label='Placed')\n",
        "rects2 = ax.bar(x + width/2, not_placed1, width, label='Not Placed')\n",
        "\n",
        "# Add some text for labels, title and custom x-axis tick labels, etc.\n",
        "ax.set_ylabel('Number of Students')\n",
        "ax.set_title('Placement Statistics')\n",
        "ax.set_xticks(x)\n",
        "ax.set_xticklabels(labels)\n",
        "ax.legend()\n",
        "\n",
        "\n",
        "def autolabel(rects):\n",
        "    \"\"\"Attach a text label above each bar in *rects*, displaying its height.\"\"\"\n",
        "    for rect in rects:\n",
        "        height = rect.get_height()\n",
        "        ax.annotate('{}'.format(height),\n",
        "                    xy=(rect.get_x() + rect.get_width() / 2, height),\n",
        "                    xytext=(0, 3),  # 3 points vertical offset\n",
        "                    textcoords=\"offset points\",\n",
        "                    ha='center', va='bottom')\n",
        "\n",
        "\n",
        "autolabel(rects1)\n",
        "autolabel(rects2)\n",
        "\n",
        "fig.tight_layout()\n",
        "\n",
        "plt.show()"
      ],
      "execution_count": 66,
      "outputs": [
        {
          "output_type": "display_data",
          "data": {
            "image/png": "[encoded data removed]",
            "text/plain": [
              "<Figure size 432x288 with 1 Axes>"
            ]
          },
          "metadata": {
            "tags": [],
            "needs_background": "light"
          }
        }
      ]
    },
    {
      "cell_type": "markdown",
      "metadata": {
        "id": "3q8482B1JvQb",
        "colab_type": "text"
      },
      "source": [
        "We can notice that the students who have work experience have a better chance of getting placed than to those students who do not have work experience. \n",
        "\n",
        "**Students Pobablity(Placed)**\n",
        "\n",
        "Workex **0.864**\n",
        "\n",
        "No Exp **0.59**"
      ]
    },
    {
      "cell_type": "markdown",
      "metadata": {
        "id": "lLTpHCiuLdXZ",
        "colab_type": "text"
      },
      "source": [
        "We can infer that Companies wish to hire those who have work experience"
      ]
    },
    {
      "cell_type": "markdown",
      "metadata": {
        "id": "a5yL9oBHLmzZ",
        "colab_type": "text"
      },
      "source": [
        "# **Corelation between MBA Specialisation and Salary.**"
      ]
    },
    {
      "cell_type": "code",
      "metadata": {
        "id": "gjK8MEb0K1Ki",
        "colab_type": "code",
        "colab": {
          "base_uri": "https://localhost:8080/",
          "height": 141
        },
        "outputId": "ae394e0a-cb38-4664-bf6a-bc4723c32114"
      },
      "source": [
        "salaryq = df_original.groupby('specialisation').mean()['salary'].to_frame()\n",
        "salaryq.reset_index()\n",
        "avg_salary = salaryq['salary'].array\n",
        "salaryq\n"
      ],
      "execution_count": 88,
      "outputs": [
        {
          "output_type": "execute_result",
          "data": {
            "text/html": [
              "<div>\n",
              "<style scoped>\n",
              "    .dataframe tbody tr th:only-of-type {\n",
              "        vertical-align: middle;\n",
              "    }\n",
              "\n",
              "    .dataframe tbody tr th {\n",
              "        vertical-align: top;\n",
              "    }\n",
              "\n",
              "    .dataframe thead th {\n",
              "        text-align: right;\n",
              "    }\n",
              "</style>\n",
              "<table border=\"1\" class=\"dataframe\">\n",
              "  <thead>\n",
              "    <tr style=\"text-align: right;\">\n",
              "      <th></th>\n",
              "      <th>salary</th>\n",
              "    </tr>\n",
              "    <tr>\n",
              "      <th>specialisation</th>\n",
              "      <th></th>\n",
              "    </tr>\n",
              "  </thead>\n",
              "  <tbody>\n",
              "    <tr>\n",
              "      <th>Mkt&amp;Fin</th>\n",
              "      <td>298852.631579</td>\n",
              "    </tr>\n",
              "    <tr>\n",
              "      <th>Mkt&amp;HR</th>\n",
              "      <td>270377.358491</td>\n",
              "    </tr>\n",
              "  </tbody>\n",
              "</table>\n",
              "</div>"
            ],
            "text/plain": [
              "                       salary\n",
              "specialisation               \n",
              "Mkt&Fin         298852.631579\n",
              "Mkt&HR          270377.358491"
            ]
          },
          "metadata": {
            "tags": []
          },
          "execution_count": 88
        }
      ]
    },
    {
      "cell_type": "code",
      "metadata": {
        "id": "dpJaLLkGNcDC",
        "colab_type": "code",
        "colab": {
          "base_uri": "https://localhost:8080/",
          "height": 336
        },
        "outputId": "36638bf3-4c99-4764-d0c6-43630e7b8841"
      },
      "source": [
        "\n",
        "fig = plt.figure()\n",
        "ax = fig.add_axes([0,0,1,1])\n",
        "spl = ['Marketing and Finance', 'Marketing and HR']\n",
        "\n",
        "ax.bar(spl,avg_salary)\n",
        "plt.show()"
      ],
      "execution_count": 87,
      "outputs": [
        {
          "output_type": "display_data",
          "data": {
            "image/png": "[encoded data removed]",
            "text/plain": [
              "<Figure size 432x288 with 1 Axes>"
            ]
          },
          "metadata": {
            "tags": [],
            "needs_background": "light"
          }
        }
      ]
    },
    {
      "cell_type": "markdown",
      "metadata": {
        "id": "K6nuPZcyPc_J",
        "colab_type": "text"
      },
      "source": [
        "We can see that salary offered to Marketing and finance specialisation is 10% more than the salary offered to Marketing and HR."
      ]
    },
    {
      "cell_type": "markdown",
      "metadata": {
        "id": "cehLa9UhQ6N7",
        "colab_type": "text"
      },
      "source": [
        "# **Correlation between Degree specialisation and Salary.**"
      ]
    },
    {
      "cell_type": "code",
      "metadata": {
        "id": "IGFQuGepQEjs",
        "colab_type": "code",
        "colab": {
          "base_uri": "https://localhost:8080/",
          "height": 141
        },
        "outputId": "099031dd-cc1d-4624-9ea6-d98b016473a3"
      },
      "source": [
        "salaryt = df_original.groupby('degree_t').mean()['salary'].to_frame().reset_index()\n",
        "avg_salary_degree = salaryt['salary'].array\n",
        "salaryt\n"
      ],
      "execution_count": 117,
      "outputs": [
        {
          "output_type": "execute_result",
          "data": {
            "text/html": [
              "<div>\n",
              "<style scoped>\n",
              "    .dataframe tbody tr th:only-of-type {\n",
              "        vertical-align: middle;\n",
              "    }\n",
              "\n",
              "    .dataframe tbody tr th {\n",
              "        vertical-align: top;\n",
              "    }\n",
              "\n",
              "    .dataframe thead th {\n",
              "        text-align: right;\n",
              "    }\n",
              "</style>\n",
              "<table border=\"1\" class=\"dataframe\">\n",
              "  <thead>\n",
              "    <tr style=\"text-align: right;\">\n",
              "      <th></th>\n",
              "      <th>degree_t</th>\n",
              "      <th>salary</th>\n",
              "    </tr>\n",
              "  </thead>\n",
              "  <tbody>\n",
              "    <tr>\n",
              "      <th>0</th>\n",
              "      <td>Comm&amp;Mgmt</td>\n",
              "      <td>278627.450980</td>\n",
              "    </tr>\n",
              "    <tr>\n",
              "      <th>1</th>\n",
              "      <td>Others</td>\n",
              "      <td>280400.000000</td>\n",
              "    </tr>\n",
              "    <tr>\n",
              "      <th>2</th>\n",
              "      <td>Sci&amp;Tech</td>\n",
              "      <td>314609.756098</td>\n",
              "    </tr>\n",
              "  </tbody>\n",
              "</table>\n",
              "</div>"
            ],
            "text/plain": [
              "    degree_t         salary\n",
              "0  Comm&Mgmt  278627.450980\n",
              "1     Others  280400.000000\n",
              "2   Sci&Tech  314609.756098"
            ]
          },
          "metadata": {
            "tags": []
          },
          "execution_count": 117
        }
      ]
    },
    {
      "cell_type": "markdown",
      "metadata": {
        "id": "BrObs6bSRO5y",
        "colab_type": "text"
      },
      "source": [
        "The average salary receieved by various degreee types is as shown above."
      ]
    },
    {
      "cell_type": "code",
      "metadata": {
        "id": "UyzdZUtCRyWe",
        "colab_type": "code",
        "colab": {
          "base_uri": "https://localhost:8080/",
          "height": 336
        },
        "outputId": "e38b6dd0-8242-44cc-960b-ebd4872b1ea6"
      },
      "source": [
        "\n",
        "fig = plt.figure()\n",
        "ax = fig.add_axes([0,0,1,1])\n",
        "spl = ['Commerce and Management', 'Others','Science and Technology']\n",
        "\n",
        "ax.bar(spl,avg_salary_degree)\n",
        "plt.show()"
      ],
      "execution_count": 93,
      "outputs": [
        {
          "output_type": "display_data",
          "data": {
            "image/png": "[encoded data removed]",
            "text/plain": [
              "<Figure size 432x288 with 1 Axes>"
            ]
          },
          "metadata": {
            "tags": [],
            "needs_background": "light"
          }
        }
      ]
    },
    {
      "cell_type": "markdown",
      "metadata": {
        "id": "9arL9Up5TWLF",
        "colab_type": "text"
      },
      "source": [
        "The average salary of a student who is from a science and technology background is ~ 13 % more than commerce and management students and ~ 12% more than students from other background."
      ]
    },
    {
      "cell_type": "markdown",
      "metadata": {
        "id": "_C0usAhTWEWl",
        "colab_type": "text"
      },
      "source": [
        "# **Corelation between Undergrad Degree type and Placement status.**"
      ]
    },
    {
      "cell_type": "code",
      "metadata": {
        "id": "8NkUdkbrVNDN",
        "colab_type": "code",
        "colab": {
          "base_uri": "https://localhost:8080/",
          "height": 263
        },
        "outputId": "9af7876a-13d2-40fe-d657-a2d2e4c8ee8c"
      },
      "source": [
        "df.groupby(['degree_t','status']).count()[['sl_no']]"
      ],
      "execution_count": 105,
      "outputs": [
        {
          "output_type": "execute_result",
          "data": {
            "text/html": [
              "<div>\n",
              "<style scoped>\n",
              "    .dataframe tbody tr th:only-of-type {\n",
              "        vertical-align: middle;\n",
              "    }\n",
              "\n",
              "    .dataframe tbody tr th {\n",
              "        vertical-align: top;\n",
              "    }\n",
              "\n",
              "    .dataframe thead th {\n",
              "        text-align: right;\n",
              "    }\n",
              "</style>\n",
              "<table border=\"1\" class=\"dataframe\">\n",
              "  <thead>\n",
              "    <tr style=\"text-align: right;\">\n",
              "      <th></th>\n",
              "      <th></th>\n",
              "      <th>sl_no</th>\n",
              "    </tr>\n",
              "    <tr>\n",
              "      <th>degree_t</th>\n",
              "      <th>status</th>\n",
              "      <th></th>\n",
              "    </tr>\n",
              "  </thead>\n",
              "  <tbody>\n",
              "    <tr>\n",
              "      <th rowspan=\"2\" valign=\"top\">Comm&amp;Mgmt</th>\n",
              "      <th>Not Placed</th>\n",
              "      <td>43</td>\n",
              "    </tr>\n",
              "    <tr>\n",
              "      <th>Placed</th>\n",
              "      <td>102</td>\n",
              "    </tr>\n",
              "    <tr>\n",
              "      <th rowspan=\"2\" valign=\"top\">Others</th>\n",
              "      <th>Not Placed</th>\n",
              "      <td>6</td>\n",
              "    </tr>\n",
              "    <tr>\n",
              "      <th>Placed</th>\n",
              "      <td>5</td>\n",
              "    </tr>\n",
              "    <tr>\n",
              "      <th rowspan=\"2\" valign=\"top\">Sci&amp;Tech</th>\n",
              "      <th>Not Placed</th>\n",
              "      <td>18</td>\n",
              "    </tr>\n",
              "    <tr>\n",
              "      <th>Placed</th>\n",
              "      <td>41</td>\n",
              "    </tr>\n",
              "  </tbody>\n",
              "</table>\n",
              "</div>"
            ],
            "text/plain": [
              "                      sl_no\n",
              "degree_t  status           \n",
              "Comm&Mgmt Not Placed     43\n",
              "          Placed        102\n",
              "Others    Not Placed      6\n",
              "          Placed          5\n",
              "Sci&Tech  Not Placed     18\n",
              "          Placed         41"
            ]
          },
          "metadata": {
            "tags": []
          },
          "execution_count": 105
        }
      ]
    },
    {
      "cell_type": "markdown",
      "metadata": {
        "id": "IF_WFtApWZYI",
        "colab_type": "text"
      },
      "source": [
        "We can see the statistics of Placements with regard to different degree backgrounds."
      ]
    },
    {
      "cell_type": "markdown",
      "metadata": {
        "id": "tlcHChXmYo73",
        "colab_type": "text"
      },
      "source": [
        "# **Corelation between Gender and Placement status.**"
      ]
    },
    {
      "cell_type": "code",
      "metadata": {
        "id": "OYnS3MuPY1Fx",
        "colab_type": "code",
        "colab": {
          "base_uri": "https://localhost:8080/",
          "height": 202
        },
        "outputId": "407dd761-427d-4b65-8760-850e81ccb6fb"
      },
      "source": [
        "df_original.groupby(['gender','status']).count()[['sl_no']]"
      ],
      "execution_count": 120,
      "outputs": [
        {
          "output_type": "execute_result",
          "data": {
            "text/html": [
              "<div>\n",
              "<style scoped>\n",
              "    .dataframe tbody tr th:only-of-type {\n",
              "        vertical-align: middle;\n",
              "    }\n",
              "\n",
              "    .dataframe tbody tr th {\n",
              "        vertical-align: top;\n",
              "    }\n",
              "\n",
              "    .dataframe thead th {\n",
              "        text-align: right;\n",
              "    }\n",
              "</style>\n",
              "<table border=\"1\" class=\"dataframe\">\n",
              "  <thead>\n",
              "    <tr style=\"text-align: right;\">\n",
              "      <th></th>\n",
              "      <th></th>\n",
              "      <th>sl_no</th>\n",
              "    </tr>\n",
              "    <tr>\n",
              "      <th>gender</th>\n",
              "      <th>status</th>\n",
              "      <th></th>\n",
              "    </tr>\n",
              "  </thead>\n",
              "  <tbody>\n",
              "    <tr>\n",
              "      <th rowspan=\"2\" valign=\"top\">F</th>\n",
              "      <th>0</th>\n",
              "      <td>28</td>\n",
              "    </tr>\n",
              "    <tr>\n",
              "      <th>1</th>\n",
              "      <td>48</td>\n",
              "    </tr>\n",
              "    <tr>\n",
              "      <th rowspan=\"2\" valign=\"top\">M</th>\n",
              "      <th>0</th>\n",
              "      <td>39</td>\n",
              "    </tr>\n",
              "    <tr>\n",
              "      <th>1</th>\n",
              "      <td>100</td>\n",
              "    </tr>\n",
              "  </tbody>\n",
              "</table>\n",
              "</div>"
            ],
            "text/plain": [
              "               sl_no\n",
              "gender status       \n",
              "F      0          28\n",
              "       1          48\n",
              "M      0          39\n",
              "       1         100"
            ]
          },
          "metadata": {
            "tags": []
          },
          "execution_count": 120
        }
      ]
    },
    {
      "cell_type": "markdown",
      "metadata": {
        "id": "XFJr6jr3ZTqK",
        "colab_type": "text"
      },
      "source": [
        "We can see that the probablity of a male student getting placed is more than that of a female student getting placed."
      ]
    },
    {
      "cell_type": "markdown",
      "metadata": {
        "id": "UARFylRco3D2",
        "colab_type": "text"
      },
      "source": [
        "# **CONCLUSION**\n",
        "\n",
        "We can say that following are the factors which influence the candidate's placement\n",
        "\n",
        "1.The average percentage in SSC,HSC,DEGREE,MBA being more than 70% leads to a better employability rate. \n",
        "\n",
        "2.Work experience leads to a better employability rate.\n",
        "\n",
        "3.MBA Marketing and Finance specalization leads to a better employability rate.\n",
        "\n",
        "4.Male candidates seem to have a better employability rate than their female counterparts.\n",
        "\n",
        "5.Science and Technology undergrad students seem to have a better pay than the rest."
      ]
    }
  ]
}